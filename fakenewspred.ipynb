{
 "cells": [
  {
   "cell_type": "code",
   "execution_count": 1,
   "metadata": {
    "executionInfo": {
     "elapsed": 1416,
     "status": "ok",
     "timestamp": 1610275918664,
     "user": {
      "displayName": "mohammed safwan",
      "photoUrl": "https://lh3.googleusercontent.com/a-/AOh14GiV5vMQDTESJpRqH9HUx3YkAKMlmbCR89MN0-kb=s64",
      "userId": "01125499156458124312"
     },
     "user_tz": -330
    },
    "id": "uhNQ5_EZWckN"
   },
   "outputs": [],
   "source": [
    "import pandas as pd"
   ]
  },
  {
   "cell_type": "code",
   "execution_count": 2,
   "metadata": {
    "executionInfo": {
     "elapsed": 5677,
     "status": "ok",
     "timestamp": 1610275926499,
     "user": {
      "displayName": "mohammed safwan",
      "photoUrl": "https://lh3.googleusercontent.com/a-/AOh14GiV5vMQDTESJpRqH9HUx3YkAKMlmbCR89MN0-kb=s64",
      "userId": "01125499156458124312"
     },
     "user_tz": -330
    },
    "id": "eUhoLm0eV-op"
   },
   "outputs": [],
   "source": [
    "df = pd.read_csv('train.csv')\n",
    "test = pd.read_csv('test.csv')"
   ]
  },
  {
   "cell_type": "code",
   "execution_count": 3,
   "metadata": {
    "colab": {
     "base_uri": "https://localhost:8080/",
     "height": 195
    },
    "executionInfo": {
     "elapsed": 1879,
     "status": "ok",
     "timestamp": 1610276092120,
     "user": {
      "displayName": "mohammed safwan",
      "photoUrl": "https://lh3.googleusercontent.com/a-/AOh14GiV5vMQDTESJpRqH9HUx3YkAKMlmbCR89MN0-kb=s64",
      "userId": "01125499156458124312"
     },
     "user_tz": -330
    },
    "id": "ytwdpVQWWTOF",
    "outputId": "b0bae49b-dd92-4b6c-ae26-010c2fa5877f"
   },
   "outputs": [
    {
     "data": {
      "text/html": [
       "<div>\n",
       "<style scoped>\n",
       "    .dataframe tbody tr th:only-of-type {\n",
       "        vertical-align: middle;\n",
       "    }\n",
       "\n",
       "    .dataframe tbody tr th {\n",
       "        vertical-align: top;\n",
       "    }\n",
       "\n",
       "    .dataframe thead th {\n",
       "        text-align: right;\n",
       "    }\n",
       "</style>\n",
       "<table border=\"1\" class=\"dataframe\">\n",
       "  <thead>\n",
       "    <tr style=\"text-align: right;\">\n",
       "      <th></th>\n",
       "      <th>id</th>\n",
       "      <th>title</th>\n",
       "      <th>author</th>\n",
       "      <th>text</th>\n",
       "      <th>label</th>\n",
       "    </tr>\n",
       "  </thead>\n",
       "  <tbody>\n",
       "    <tr>\n",
       "      <th>0</th>\n",
       "      <td>0</td>\n",
       "      <td>House Dem Aide: We Didn’t Even See Comey’s Let...</td>\n",
       "      <td>Darrell Lucus</td>\n",
       "      <td>House Dem Aide: We Didn’t Even See Comey’s Let...</td>\n",
       "      <td>1</td>\n",
       "    </tr>\n",
       "    <tr>\n",
       "      <th>1</th>\n",
       "      <td>1</td>\n",
       "      <td>FLYNN: Hillary Clinton, Big Woman on Campus - ...</td>\n",
       "      <td>Daniel J. Flynn</td>\n",
       "      <td>Ever get the feeling your life circles the rou...</td>\n",
       "      <td>0</td>\n",
       "    </tr>\n",
       "    <tr>\n",
       "      <th>2</th>\n",
       "      <td>2</td>\n",
       "      <td>Why the Truth Might Get You Fired</td>\n",
       "      <td>Consortiumnews.com</td>\n",
       "      <td>Why the Truth Might Get You Fired October 29, ...</td>\n",
       "      <td>1</td>\n",
       "    </tr>\n",
       "    <tr>\n",
       "      <th>3</th>\n",
       "      <td>3</td>\n",
       "      <td>15 Civilians Killed In Single US Airstrike Hav...</td>\n",
       "      <td>Jessica Purkiss</td>\n",
       "      <td>Videos 15 Civilians Killed In Single US Airstr...</td>\n",
       "      <td>1</td>\n",
       "    </tr>\n",
       "    <tr>\n",
       "      <th>4</th>\n",
       "      <td>4</td>\n",
       "      <td>Iranian woman jailed for fictional unpublished...</td>\n",
       "      <td>Howard Portnoy</td>\n",
       "      <td>Print \\nAn Iranian woman has been sentenced to...</td>\n",
       "      <td>1</td>\n",
       "    </tr>\n",
       "  </tbody>\n",
       "</table>\n",
       "</div>"
      ],
      "text/plain": [
       "   id                                              title              author  \\\n",
       "0   0  House Dem Aide: We Didn’t Even See Comey’s Let...       Darrell Lucus   \n",
       "1   1  FLYNN: Hillary Clinton, Big Woman on Campus - ...     Daniel J. Flynn   \n",
       "2   2                  Why the Truth Might Get You Fired  Consortiumnews.com   \n",
       "3   3  15 Civilians Killed In Single US Airstrike Hav...     Jessica Purkiss   \n",
       "4   4  Iranian woman jailed for fictional unpublished...      Howard Portnoy   \n",
       "\n",
       "                                                text  label  \n",
       "0  House Dem Aide: We Didn’t Even See Comey’s Let...      1  \n",
       "1  Ever get the feeling your life circles the rou...      0  \n",
       "2  Why the Truth Might Get You Fired October 29, ...      1  \n",
       "3  Videos 15 Civilians Killed In Single US Airstr...      1  \n",
       "4  Print \\nAn Iranian woman has been sentenced to...      1  "
      ]
     },
     "execution_count": 3,
     "metadata": {},
     "output_type": "execute_result"
    }
   ],
   "source": [
    "df.head()"
   ]
  },
  {
   "cell_type": "code",
   "execution_count": 4,
   "metadata": {
    "colab": {
     "base_uri": "https://localhost:8080/"
    },
    "executionInfo": {
     "elapsed": 2431,
     "status": "ok",
     "timestamp": 1610276092684,
     "user": {
      "displayName": "mohammed safwan",
      "photoUrl": "https://lh3.googleusercontent.com/a-/AOh14GiV5vMQDTESJpRqH9HUx3YkAKMlmbCR89MN0-kb=s64",
      "userId": "01125499156458124312"
     },
     "user_tz": -330
    },
    "id": "IoWHtLj0WlHv",
    "outputId": "4232f8ea-1053-431c-d285-757f3251b7c1"
   },
   "outputs": [
    {
     "data": {
      "text/plain": [
       "id           0\n",
       "title      558\n",
       "author    1957\n",
       "text        39\n",
       "label        0\n",
       "dtype: int64"
      ]
     },
     "execution_count": 4,
     "metadata": {},
     "output_type": "execute_result"
    }
   ],
   "source": [
    "df.isnull().sum()"
   ]
  },
  {
   "cell_type": "code",
   "execution_count": 5,
   "metadata": {
    "executionInfo": {
     "elapsed": 2423,
     "status": "ok",
     "timestamp": 1610276092685,
     "user": {
      "displayName": "mohammed safwan",
      "photoUrl": "https://lh3.googleusercontent.com/a-/AOh14GiV5vMQDTESJpRqH9HUx3YkAKMlmbCR89MN0-kb=s64",
      "userId": "01125499156458124312"
     },
     "user_tz": -330
    },
    "id": "BM7Ek4PKW9lU"
   },
   "outputs": [],
   "source": [
    "df = df.fillna('')\n",
    "test = test.fillna('')"
   ]
  },
  {
   "cell_type": "code",
   "execution_count": 6,
   "metadata": {
    "executionInfo": {
     "elapsed": 2418,
     "status": "ok",
     "timestamp": 1610276092686,
     "user": {
      "displayName": "mohammed safwan",
      "photoUrl": "https://lh3.googleusercontent.com/a-/AOh14GiV5vMQDTESJpRqH9HUx3YkAKMlmbCR89MN0-kb=s64",
      "userId": "01125499156458124312"
     },
     "user_tz": -330
    },
    "id": "x6ME9SkRW-tn"
   },
   "outputs": [],
   "source": [
    "df['total'] = df['title']+' '+df['author']\n",
    "test['total']=test['title']+' '+test['author']"
   ]
  },
  {
   "cell_type": "code",
   "execution_count": 7,
   "metadata": {
    "executionInfo": {
     "elapsed": 2412,
     "status": "ok",
     "timestamp": 1610276092686,
     "user": {
      "displayName": "mohammed safwan",
      "photoUrl": "https://lh3.googleusercontent.com/a-/AOh14GiV5vMQDTESJpRqH9HUx3YkAKMlmbCR89MN0-kb=s64",
      "userId": "01125499156458124312"
     },
     "user_tz": -330
    },
    "id": "2okK3jVNXDQy"
   },
   "outputs": [],
   "source": [
    "X = df.drop('label',axis=1)"
   ]
  },
  {
   "cell_type": "code",
   "execution_count": 8,
   "metadata": {
    "executionInfo": {
     "elapsed": 2408,
     "status": "ok",
     "timestamp": 1610276092687,
     "user": {
      "displayName": "mohammed safwan",
      "photoUrl": "https://lh3.googleusercontent.com/a-/AOh14GiV5vMQDTESJpRqH9HUx3YkAKMlmbCR89MN0-kb=s64",
      "userId": "01125499156458124312"
     },
     "user_tz": -330
    },
    "id": "8K3g9hRsXIMZ"
   },
   "outputs": [],
   "source": [
    "y=df['label']"
   ]
  },
  {
   "cell_type": "code",
   "execution_count": 9,
   "metadata": {
    "colab": {
     "base_uri": "https://localhost:8080/"
    },
    "executionInfo": {
     "elapsed": 2403,
     "status": "ok",
     "timestamp": 1610276092687,
     "user": {
      "displayName": "mohammed safwan",
      "photoUrl": "https://lh3.googleusercontent.com/a-/AOh14GiV5vMQDTESJpRqH9HUx3YkAKMlmbCR89MN0-kb=s64",
      "userId": "01125499156458124312"
     },
     "user_tz": -330
    },
    "id": "Dx8i6n-TXKrN",
    "outputId": "326eee2f-a792-40fe-91f0-aedb09354827"
   },
   "outputs": [
    {
     "name": "stdout",
     "output_type": "stream",
     "text": [
      "(20800, 5)\n",
      "(20800,)\n"
     ]
    }
   ],
   "source": [
    "print(X.shape)\n",
    "print(y.shape)"
   ]
  },
  {
   "cell_type": "code",
   "execution_count": 10,
   "metadata": {
    "colab": {
     "base_uri": "https://localhost:8080/",
     "height": 570
    },
    "executionInfo": {
     "elapsed": 1925,
     "status": "ok",
     "timestamp": 1610279584466,
     "user": {
      "displayName": "mohammed safwan",
      "photoUrl": "https://lh3.googleusercontent.com/a-/AOh14GiV5vMQDTESJpRqH9HUx3YkAKMlmbCR89MN0-kb=s64",
      "userId": "01125499156458124312"
     },
     "user_tz": -330
    },
    "id": "b1wyqou0JGUY",
    "outputId": "8205b8ee-e9a8-4f23-da87-fbf6fa9efc21"
   },
   "outputs": [
    {
     "data": {
      "text/html": [
       "<div>\n",
       "<style scoped>\n",
       "    .dataframe tbody tr th:only-of-type {\n",
       "        vertical-align: middle;\n",
       "    }\n",
       "\n",
       "    .dataframe tbody tr th {\n",
       "        vertical-align: top;\n",
       "    }\n",
       "\n",
       "    .dataframe thead th {\n",
       "        text-align: right;\n",
       "    }\n",
       "</style>\n",
       "<table border=\"1\" class=\"dataframe\">\n",
       "  <thead>\n",
       "    <tr style=\"text-align: right;\">\n",
       "      <th></th>\n",
       "      <th>id</th>\n",
       "      <th>title</th>\n",
       "      <th>author</th>\n",
       "      <th>text</th>\n",
       "      <th>total</th>\n",
       "    </tr>\n",
       "  </thead>\n",
       "  <tbody>\n",
       "    <tr>\n",
       "      <th>0</th>\n",
       "      <td>0</td>\n",
       "      <td>House Dem Aide: We Didn’t Even See Comey’s Let...</td>\n",
       "      <td>Darrell Lucus</td>\n",
       "      <td>House Dem Aide: We Didn’t Even See Comey’s Let...</td>\n",
       "      <td>House Dem Aide: We Didn’t Even See Comey’s Let...</td>\n",
       "    </tr>\n",
       "    <tr>\n",
       "      <th>1</th>\n",
       "      <td>1</td>\n",
       "      <td>FLYNN: Hillary Clinton, Big Woman on Campus - ...</td>\n",
       "      <td>Daniel J. Flynn</td>\n",
       "      <td>Ever get the feeling your life circles the rou...</td>\n",
       "      <td>FLYNN: Hillary Clinton, Big Woman on Campus - ...</td>\n",
       "    </tr>\n",
       "    <tr>\n",
       "      <th>2</th>\n",
       "      <td>2</td>\n",
       "      <td>Why the Truth Might Get You Fired</td>\n",
       "      <td>Consortiumnews.com</td>\n",
       "      <td>Why the Truth Might Get You Fired October 29, ...</td>\n",
       "      <td>Why the Truth Might Get You Fired Consortiumne...</td>\n",
       "    </tr>\n",
       "    <tr>\n",
       "      <th>3</th>\n",
       "      <td>3</td>\n",
       "      <td>15 Civilians Killed In Single US Airstrike Hav...</td>\n",
       "      <td>Jessica Purkiss</td>\n",
       "      <td>Videos 15 Civilians Killed In Single US Airstr...</td>\n",
       "      <td>15 Civilians Killed In Single US Airstrike Hav...</td>\n",
       "    </tr>\n",
       "    <tr>\n",
       "      <th>4</th>\n",
       "      <td>4</td>\n",
       "      <td>Iranian woman jailed for fictional unpublished...</td>\n",
       "      <td>Howard Portnoy</td>\n",
       "      <td>Print \\nAn Iranian woman has been sentenced to...</td>\n",
       "      <td>Iranian woman jailed for fictional unpublished...</td>\n",
       "    </tr>\n",
       "    <tr>\n",
       "      <th>...</th>\n",
       "      <td>...</td>\n",
       "      <td>...</td>\n",
       "      <td>...</td>\n",
       "      <td>...</td>\n",
       "      <td>...</td>\n",
       "    </tr>\n",
       "    <tr>\n",
       "      <th>20795</th>\n",
       "      <td>20795</td>\n",
       "      <td>Rapper T.I.: Trump a ’Poster Child For White S...</td>\n",
       "      <td>Jerome Hudson</td>\n",
       "      <td>Rapper T. I. unloaded on black celebrities who...</td>\n",
       "      <td>Rapper T.I.: Trump a ’Poster Child For White S...</td>\n",
       "    </tr>\n",
       "    <tr>\n",
       "      <th>20796</th>\n",
       "      <td>20796</td>\n",
       "      <td>N.F.L. Playoffs: Schedule, Matchups and Odds -...</td>\n",
       "      <td>Benjamin Hoffman</td>\n",
       "      <td>When the Green Bay Packers lost to the Washing...</td>\n",
       "      <td>N.F.L. Playoffs: Schedule, Matchups and Odds -...</td>\n",
       "    </tr>\n",
       "    <tr>\n",
       "      <th>20797</th>\n",
       "      <td>20797</td>\n",
       "      <td>Macy’s Is Said to Receive Takeover Approach by...</td>\n",
       "      <td>Michael J. de la Merced and Rachel Abrams</td>\n",
       "      <td>The Macy’s of today grew from the union of sev...</td>\n",
       "      <td>Macy’s Is Said to Receive Takeover Approach by...</td>\n",
       "    </tr>\n",
       "    <tr>\n",
       "      <th>20798</th>\n",
       "      <td>20798</td>\n",
       "      <td>NATO, Russia To Hold Parallel Exercises In Bal...</td>\n",
       "      <td>Alex Ansary</td>\n",
       "      <td>NATO, Russia To Hold Parallel Exercises In Bal...</td>\n",
       "      <td>NATO, Russia To Hold Parallel Exercises In Bal...</td>\n",
       "    </tr>\n",
       "    <tr>\n",
       "      <th>20799</th>\n",
       "      <td>20799</td>\n",
       "      <td>What Keeps the F-35 Alive</td>\n",
       "      <td>David Swanson</td>\n",
       "      <td>David Swanson is an author, activist, journa...</td>\n",
       "      <td>What Keeps the F-35 Alive David Swanson</td>\n",
       "    </tr>\n",
       "  </tbody>\n",
       "</table>\n",
       "<p>20800 rows × 5 columns</p>\n",
       "</div>"
      ],
      "text/plain": [
       "          id                                              title  \\\n",
       "0          0  House Dem Aide: We Didn’t Even See Comey’s Let...   \n",
       "1          1  FLYNN: Hillary Clinton, Big Woman on Campus - ...   \n",
       "2          2                  Why the Truth Might Get You Fired   \n",
       "3          3  15 Civilians Killed In Single US Airstrike Hav...   \n",
       "4          4  Iranian woman jailed for fictional unpublished...   \n",
       "...      ...                                                ...   \n",
       "20795  20795  Rapper T.I.: Trump a ’Poster Child For White S...   \n",
       "20796  20796  N.F.L. Playoffs: Schedule, Matchups and Odds -...   \n",
       "20797  20797  Macy’s Is Said to Receive Takeover Approach by...   \n",
       "20798  20798  NATO, Russia To Hold Parallel Exercises In Bal...   \n",
       "20799  20799                          What Keeps the F-35 Alive   \n",
       "\n",
       "                                          author  \\\n",
       "0                                  Darrell Lucus   \n",
       "1                                Daniel J. Flynn   \n",
       "2                             Consortiumnews.com   \n",
       "3                                Jessica Purkiss   \n",
       "4                                 Howard Portnoy   \n",
       "...                                          ...   \n",
       "20795                              Jerome Hudson   \n",
       "20796                           Benjamin Hoffman   \n",
       "20797  Michael J. de la Merced and Rachel Abrams   \n",
       "20798                                Alex Ansary   \n",
       "20799                              David Swanson   \n",
       "\n",
       "                                                    text  \\\n",
       "0      House Dem Aide: We Didn’t Even See Comey’s Let...   \n",
       "1      Ever get the feeling your life circles the rou...   \n",
       "2      Why the Truth Might Get You Fired October 29, ...   \n",
       "3      Videos 15 Civilians Killed In Single US Airstr...   \n",
       "4      Print \\nAn Iranian woman has been sentenced to...   \n",
       "...                                                  ...   \n",
       "20795  Rapper T. I. unloaded on black celebrities who...   \n",
       "20796  When the Green Bay Packers lost to the Washing...   \n",
       "20797  The Macy’s of today grew from the union of sev...   \n",
       "20798  NATO, Russia To Hold Parallel Exercises In Bal...   \n",
       "20799    David Swanson is an author, activist, journa...   \n",
       "\n",
       "                                                   total  \n",
       "0      House Dem Aide: We Didn’t Even See Comey’s Let...  \n",
       "1      FLYNN: Hillary Clinton, Big Woman on Campus - ...  \n",
       "2      Why the Truth Might Get You Fired Consortiumne...  \n",
       "3      15 Civilians Killed In Single US Airstrike Hav...  \n",
       "4      Iranian woman jailed for fictional unpublished...  \n",
       "...                                                  ...  \n",
       "20795  Rapper T.I.: Trump a ’Poster Child For White S...  \n",
       "20796  N.F.L. Playoffs: Schedule, Matchups and Odds -...  \n",
       "20797  Macy’s Is Said to Receive Takeover Approach by...  \n",
       "20798  NATO, Russia To Hold Parallel Exercises In Bal...  \n",
       "20799            What Keeps the F-35 Alive David Swanson  \n",
       "\n",
       "[20800 rows x 5 columns]"
      ]
     },
     "execution_count": 10,
     "metadata": {},
     "output_type": "execute_result"
    }
   ],
   "source": [
    "X\n"
   ]
  },
  {
   "cell_type": "code",
   "execution_count": 11,
   "metadata": {
    "executionInfo": {
     "elapsed": 4678,
     "status": "ok",
     "timestamp": 1610276094967,
     "user": {
      "displayName": "mohammed safwan",
      "photoUrl": "https://lh3.googleusercontent.com/a-/AOh14GiV5vMQDTESJpRqH9HUx3YkAKMlmbCR89MN0-kb=s64",
      "userId": "01125499156458124312"
     },
     "user_tz": -330
    },
    "id": "_QxMn5sAXOFs"
   },
   "outputs": [],
   "source": [
    "import tensorflow as tf"
   ]
  },
  {
   "cell_type": "code",
   "execution_count": 12,
   "metadata": {
    "colab": {
     "base_uri": "https://localhost:8080/",
     "height": 35
    },
    "executionInfo": {
     "elapsed": 4678,
     "status": "ok",
     "timestamp": 1610276094972,
     "user": {
      "displayName": "mohammed safwan",
      "photoUrl": "https://lh3.googleusercontent.com/a-/AOh14GiV5vMQDTESJpRqH9HUx3YkAKMlmbCR89MN0-kb=s64",
      "userId": "01125499156458124312"
     },
     "user_tz": -330
    },
    "id": "B7dgLgw7XRt_",
    "outputId": "ef48c723-dde5-4fbb-b1de-ce3f79428d0f"
   },
   "outputs": [
    {
     "data": {
      "text/plain": [
       "'2.4.0'"
      ]
     },
     "execution_count": 12,
     "metadata": {},
     "output_type": "execute_result"
    }
   ],
   "source": [
    "tf.__version__"
   ]
  },
  {
   "cell_type": "code",
   "execution_count": 13,
   "metadata": {
    "executionInfo": {
     "elapsed": 4674,
     "status": "ok",
     "timestamp": 1610276094974,
     "user": {
      "displayName": "mohammed safwan",
      "photoUrl": "https://lh3.googleusercontent.com/a-/AOh14GiV5vMQDTESJpRqH9HUx3YkAKMlmbCR89MN0-kb=s64",
      "userId": "01125499156458124312"
     },
     "user_tz": -330
    },
    "id": "fmX-1hiBXfKH"
   },
   "outputs": [],
   "source": [
    "from tensorflow.keras.layers import Embedding,LSTM,Dense,Dropout\n",
    "from tensorflow.keras.preprocessing.sequence import pad_sequences\n",
    "from tensorflow.keras.models import Sequential\n",
    "from tensorflow.keras.preprocessing.text import one_hot"
   ]
  },
  {
   "cell_type": "code",
   "execution_count": 14,
   "metadata": {
    "executionInfo": {
     "elapsed": 4669,
     "status": "ok",
     "timestamp": 1610276094975,
     "user": {
      "displayName": "mohammed safwan",
      "photoUrl": "https://lh3.googleusercontent.com/a-/AOh14GiV5vMQDTESJpRqH9HUx3YkAKMlmbCR89MN0-kb=s64",
      "userId": "01125499156458124312"
     },
     "user_tz": -330
    },
    "id": "HZTqECvYXiol"
   },
   "outputs": [],
   "source": [
    "voc_size = 5000"
   ]
  },
  {
   "cell_type": "code",
   "execution_count": 15,
   "metadata": {
    "executionInfo": {
     "elapsed": 4665,
     "status": "ok",
     "timestamp": 1610276094976,
     "user": {
      "displayName": "mohammed safwan",
      "photoUrl": "https://lh3.googleusercontent.com/a-/AOh14GiV5vMQDTESJpRqH9HUx3YkAKMlmbCR89MN0-kb=s64",
      "userId": "01125499156458124312"
     },
     "user_tz": -330
    },
    "id": "vu11e2_0XloJ"
   },
   "outputs": [],
   "source": [
    "msg = X.copy()\n",
    "msg_test = test.copy()"
   ]
  },
  {
   "cell_type": "code",
   "execution_count": 16,
   "metadata": {
    "executionInfo": {
     "elapsed": 6119,
     "status": "ok",
     "timestamp": 1610276096434,
     "user": {
      "displayName": "mohammed safwan",
      "photoUrl": "https://lh3.googleusercontent.com/a-/AOh14GiV5vMQDTESJpRqH9HUx3YkAKMlmbCR89MN0-kb=s64",
      "userId": "01125499156458124312"
     },
     "user_tz": -330
    },
    "id": "guDCKusqXquc"
   },
   "outputs": [],
   "source": [
    "import nltk\n",
    "import re\n",
    "from nltk.corpus import stopwords"
   ]
  },
  {
   "cell_type": "code",
   "execution_count": 17,
   "metadata": {
    "colab": {
     "base_uri": "https://localhost:8080/"
    },
    "executionInfo": {
     "elapsed": 6115,
     "status": "ok",
     "timestamp": 1610276096435,
     "user": {
      "displayName": "mohammed safwan",
      "photoUrl": "https://lh3.googleusercontent.com/a-/AOh14GiV5vMQDTESJpRqH9HUx3YkAKMlmbCR89MN0-kb=s64",
      "userId": "01125499156458124312"
     },
     "user_tz": -330
    },
    "id": "TTkQ0XVZXvNi",
    "outputId": "022cfab9-8e0f-4ee3-9cb2-d94243015be2"
   },
   "outputs": [
    {
     "name": "stderr",
     "output_type": "stream",
     "text": [
      "[nltk_data] Downloading package stopwords to\n",
      "[nltk_data]     C:\\Users\\pmohd\\AppData\\Roaming\\nltk_data...\n",
      "[nltk_data]   Package stopwords is already up-to-date!\n"
     ]
    },
    {
     "data": {
      "text/plain": [
       "True"
      ]
     },
     "execution_count": 17,
     "metadata": {},
     "output_type": "execute_result"
    }
   ],
   "source": [
    "nltk.download('stopwords')"
   ]
  },
  {
   "cell_type": "code",
   "execution_count": 18,
   "metadata": {
    "executionInfo": {
     "elapsed": 6110,
     "status": "ok",
     "timestamp": 1610276096435,
     "user": {
      "displayName": "mohammed safwan",
      "photoUrl": "https://lh3.googleusercontent.com/a-/AOh14GiV5vMQDTESJpRqH9HUx3YkAKMlmbCR89MN0-kb=s64",
      "userId": "01125499156458124312"
     },
     "user_tz": -330
    },
    "id": "eGXbuDjhXxwx"
   },
   "outputs": [],
   "source": [
    "from nltk.stem.porter import PorterStemmer\n",
    "ps = PorterStemmer()\n",
    "corpus = []"
   ]
  },
  {
   "cell_type": "code",
   "execution_count": 19,
   "metadata": {
    "executionInfo": {
     "elapsed": 1870575,
     "status": "ok",
     "timestamp": 1610277960904,
     "user": {
      "displayName": "mohammed safwan",
      "photoUrl": "https://lh3.googleusercontent.com/a-/AOh14GiV5vMQDTESJpRqH9HUx3YkAKMlmbCR89MN0-kb=s64",
      "userId": "01125499156458124312"
     },
     "user_tz": -330
    },
    "id": "B2K6USlOX046"
   },
   "outputs": [],
   "source": [
    "for i in range(len(msg)):\n",
    "  review = re.sub('[^a-zA-Z]',' ',msg['total'][i])\n",
    "  review = review.lower()\n",
    "  review = review.split()\n",
    "  review = [ps.stem(word) for word in review if not word in stopwords.words('english')]\n",
    "  review = ' '.join(review)\n",
    "  corpus.append(review)"
   ]
  },
  {
   "cell_type": "code",
   "execution_count": 20,
   "metadata": {
    "executionInfo": {
     "elapsed": 1870577,
     "status": "ok",
     "timestamp": 1610277960912,
     "user": {
      "displayName": "mohammed safwan",
      "photoUrl": "https://lh3.googleusercontent.com/a-/AOh14GiV5vMQDTESJpRqH9HUx3YkAKMlmbCR89MN0-kb=s64",
      "userId": "01125499156458124312"
     },
     "user_tz": -330
    },
    "id": "qobJNlaIX4pW"
   },
   "outputs": [],
   "source": [
    "corpus_test = []"
   ]
  },
  {
   "cell_type": "code",
   "execution_count": 21,
   "metadata": {
    "executionInfo": {
     "elapsed": 2355295,
     "status": "ok",
     "timestamp": 1610278445636,
     "user": {
      "displayName": "mohammed safwan",
      "photoUrl": "https://lh3.googleusercontent.com/a-/AOh14GiV5vMQDTESJpRqH9HUx3YkAKMlmbCR89MN0-kb=s64",
      "userId": "01125499156458124312"
     },
     "user_tz": -330
    },
    "id": "YaDid-rmX8Jh"
   },
   "outputs": [],
   "source": [
    "for i in range(len(msg_test)):\n",
    "  review = re.sub('[^a-zA-Z]',' ',msg_test['total'][i])\n",
    "  review = review.lower()\n",
    "  review = review.split()\n",
    "  review = [ps.stem(word) for word in review if not word in stopwords.words('english')]\n",
    "  review = ' '.join(review)\n",
    "  corpus_test.append(review)\n",
    "  "
   ]
  },
  {
   "cell_type": "code",
   "execution_count": 22,
   "metadata": {
    "executionInfo": {
     "elapsed": 2359217,
     "status": "ok",
     "timestamp": 1610278449562,
     "user": {
      "displayName": "mohammed safwan",
      "photoUrl": "https://lh3.googleusercontent.com/a-/AOh14GiV5vMQDTESJpRqH9HUx3YkAKMlmbCR89MN0-kb=s64",
      "userId": "01125499156458124312"
     },
     "user_tz": -330
    },
    "id": "DxRwV8QIaMmT"
   },
   "outputs": [],
   "source": [
    "onehot_rep = [one_hot(words,voc_size)for words in corpus]"
   ]
  },
  {
   "cell_type": "code",
   "execution_count": 23,
   "metadata": {
    "executionInfo": {
     "elapsed": 2360143,
     "status": "ok",
     "timestamp": 1610278450493,
     "user": {
      "displayName": "mohammed safwan",
      "photoUrl": "https://lh3.googleusercontent.com/a-/AOh14GiV5vMQDTESJpRqH9HUx3YkAKMlmbCR89MN0-kb=s64",
      "userId": "01125499156458124312"
     },
     "user_tz": -330
    },
    "id": "hBewwWV4aQCK"
   },
   "outputs": [],
   "source": [
    "onehot_rep_test = [one_hot(words,voc_size)for words in corpus_test]"
   ]
  },
  {
   "cell_type": "code",
   "execution_count": 24,
   "metadata": {
    "executionInfo": {
     "elapsed": 2360138,
     "status": "ok",
     "timestamp": 1610278450494,
     "user": {
      "displayName": "mohammed safwan",
      "photoUrl": "https://lh3.googleusercontent.com/a-/AOh14GiV5vMQDTESJpRqH9HUx3YkAKMlmbCR89MN0-kb=s64",
      "userId": "01125499156458124312"
     },
     "user_tz": -330
    },
    "id": "WnK33VSlaUsI"
   },
   "outputs": [],
   "source": [
    "embedded_docs = pad_sequences(onehot_rep,padding='pre',maxlen=25)"
   ]
  },
  {
   "cell_type": "code",
   "execution_count": 25,
   "metadata": {
    "executionInfo": {
     "elapsed": 2360134,
     "status": "ok",
     "timestamp": 1610278450495,
     "user": {
      "displayName": "mohammed safwan",
      "photoUrl": "https://lh3.googleusercontent.com/a-/AOh14GiV5vMQDTESJpRqH9HUx3YkAKMlmbCR89MN0-kb=s64",
      "userId": "01125499156458124312"
     },
     "user_tz": -330
    },
    "id": "VjyRMyS8aXn6"
   },
   "outputs": [],
   "source": [
    "embedded_docs_test = pad_sequences(onehot_rep_test,padding='pre',maxlen=25)"
   ]
  },
  {
   "cell_type": "code",
   "execution_count": 26,
   "metadata": {
    "colab": {
     "base_uri": "https://localhost:8080/"
    },
    "executionInfo": {
     "elapsed": 2360944,
     "status": "ok",
     "timestamp": 1610278451311,
     "user": {
      "displayName": "mohammed safwan",
      "photoUrl": "https://lh3.googleusercontent.com/a-/AOh14GiV5vMQDTESJpRqH9HUx3YkAKMlmbCR89MN0-kb=s64",
      "userId": "01125499156458124312"
     },
     "user_tz": -330
    },
    "id": "c0u7MQYmaa34",
    "outputId": "b45dac03-aef8-44fb-d519-dd9887c293c7"
   },
   "outputs": [
    {
     "name": "stdout",
     "output_type": "stream",
     "text": [
      "Model: \"sequential\"\n",
      "_________________________________________________________________\n",
      "Layer (type)                 Output Shape              Param #   \n",
      "=================================================================\n",
      "embedding (Embedding)        (None, 25, 40)            200000    \n",
      "_________________________________________________________________\n",
      "dropout (Dropout)            (None, 25, 40)            0         \n",
      "_________________________________________________________________\n",
      "lstm (LSTM)                  (None, 100)               56400     \n",
      "_________________________________________________________________\n",
      "dropout_1 (Dropout)          (None, 100)               0         \n",
      "_________________________________________________________________\n",
      "dense (Dense)                (None, 64)                6464      \n",
      "_________________________________________________________________\n",
      "dropout_2 (Dropout)          (None, 64)                0         \n",
      "_________________________________________________________________\n",
      "dense_1 (Dense)              (None, 1)                 65        \n",
      "=================================================================\n",
      "Total params: 262,929\n",
      "Trainable params: 262,929\n",
      "Non-trainable params: 0\n",
      "_________________________________________________________________\n",
      "None\n"
     ]
    }
   ],
   "source": [
    "model = Sequential()\n",
    "model.add(Embedding(voc_size,40,input_length=25))\n",
    "model.add(Dropout(0.3))\n",
    "model.add(LSTM(100))\n",
    "model.add(Dropout(0.3))\n",
    "model.add(Dense(64,activation='relu'))\n",
    "model.add(Dropout(0.3))\n",
    "model.add(Dense(1,activation='sigmoid'))\n",
    "model.compile(loss='binary_crossentropy',optimizer='adam',metrics=['accuracy'])\n",
    "print(model.summary())"
   ]
  },
  {
   "cell_type": "code",
   "execution_count": 27,
   "metadata": {
    "executionInfo": {
     "elapsed": 2360939,
     "status": "ok",
     "timestamp": 1610278451311,
     "user": {
      "displayName": "mohammed safwan",
      "photoUrl": "https://lh3.googleusercontent.com/a-/AOh14GiV5vMQDTESJpRqH9HUx3YkAKMlmbCR89MN0-kb=s64",
      "userId": "01125499156458124312"
     },
     "user_tz": -330
    },
    "id": "iPdR8u0aaj7J"
   },
   "outputs": [],
   "source": [
    "import numpy as np\n",
    "X_final = np.array(embedded_docs)\n",
    "y_final = np.array(y)\n",
    "test_final = np.array(embedded_docs_test)"
   ]
  },
  {
   "cell_type": "code",
   "execution_count": 28,
   "metadata": {
    "colab": {
     "base_uri": "https://localhost:8080/"
    },
    "executionInfo": {
     "elapsed": 2360935,
     "status": "ok",
     "timestamp": 1610278451312,
     "user": {
      "displayName": "mohammed safwan",
      "photoUrl": "https://lh3.googleusercontent.com/a-/AOh14GiV5vMQDTESJpRqH9HUx3YkAKMlmbCR89MN0-kb=s64",
      "userId": "01125499156458124312"
     },
     "user_tz": -330
    },
    "id": "f6sNfAc2anBQ",
    "outputId": "cc812231-6a37-4f5c-897f-a4dbb6ec82d0"
   },
   "outputs": [
    {
     "data": {
      "text/plain": [
       "((20800, 25), (20800,), (5200, 25))"
      ]
     },
     "execution_count": 28,
     "metadata": {},
     "output_type": "execute_result"
    }
   ],
   "source": [
    "X_final.shape,y_final.shape,test_final.shape"
   ]
  },
  {
   "cell_type": "code",
   "execution_count": 29,
   "metadata": {
    "colab": {
     "base_uri": "https://localhost:8080/"
    },
    "executionInfo": {
     "elapsed": 2613202,
     "status": "ok",
     "timestamp": 1610278703584,
     "user": {
      "displayName": "mohammed safwan",
      "photoUrl": "https://lh3.googleusercontent.com/a-/AOh14GiV5vMQDTESJpRqH9HUx3YkAKMlmbCR89MN0-kb=s64",
      "userId": "01125499156458124312"
     },
     "user_tz": -330
    },
    "id": "z1Jt8OLxapXn",
    "outputId": "635ee69d-d6f4-4412-fe69-ab3ae0de1013"
   },
   "outputs": [
    {
     "name": "stdout",
     "output_type": "stream",
     "text": [
      "Epoch 1/25\n",
      "325/325 [==============================] - 14s 27ms/step - loss: 0.3030 - accuracy: 0.8461\n",
      "Epoch 2/25\n",
      "325/325 [==============================] - 8s 24ms/step - loss: 0.0168 - accuracy: 0.9952 0s - loss: 0.0167 - accura\n",
      "Epoch 3/25\n",
      "325/325 [==============================] - 7s 22ms/step - loss: 0.0077 - accuracy: 0.9979\n",
      "Epoch 4/25\n",
      "325/325 [==============================] - 7s 22ms/step - loss: 0.0044 - accuracy: 0.9992\n",
      "Epoch 5/25\n",
      "325/325 [==============================] - 7s 22ms/step - loss: 0.0034 - accuracy: 0.9984\n",
      "Epoch 6/25\n",
      "325/325 [==============================] - 7s 22ms/step - loss: 0.0020 - accuracy: 0.9991\n",
      "Epoch 7/25\n",
      "325/325 [==============================] - 8s 24ms/step - loss: 0.0033 - accuracy: 0.9993\n",
      "Epoch 8/25\n",
      "325/325 [==============================] - 8s 24ms/step - loss: 0.0021 - accuracy: 0.9991\n",
      "Epoch 9/25\n",
      "325/325 [==============================] - 7s 23ms/step - loss: 0.0012 - accuracy: 0.9996\n",
      "Epoch 10/25\n",
      "325/325 [==============================] - 7s 23ms/step - loss: 0.0012 - accuracy: 0.9997\n",
      "Epoch 11/25\n",
      "325/325 [==============================] - 8s 24ms/step - loss: 0.0016 - accuracy: 0.9997\n",
      "Epoch 12/25\n",
      "325/325 [==============================] - 8s 24ms/step - loss: 0.0013 - accuracy: 0.9997\n",
      "Epoch 13/25\n",
      "325/325 [==============================] - 7s 22ms/step - loss: 0.0026 - accuracy: 0.9992\n",
      "Epoch 14/25\n",
      "325/325 [==============================] - 7s 22ms/step - loss: 6.6683e-04 - accuracy: 0.9998\n",
      "Epoch 15/25\n",
      "325/325 [==============================] - 7s 22ms/step - loss: 0.0012 - accuracy: 0.9995\n",
      "Epoch 16/25\n",
      "325/325 [==============================] - 7s 22ms/step - loss: 0.0012 - accuracy: 0.9998\n",
      "Epoch 17/25\n",
      "325/325 [==============================] - 8s 25ms/step - loss: 4.2012e-04 - accuracy: 0.9999\n",
      "Epoch 18/25\n",
      "325/325 [==============================] - 8s 23ms/step - loss: 9.0058e-05 - accuracy: 1.0000\n",
      "Epoch 19/25\n",
      "325/325 [==============================] - 7s 23ms/step - loss: 1.0469e-04 - accuracy: 1.0000\n",
      "Epoch 20/25\n",
      "325/325 [==============================] - 7s 22ms/step - loss: 0.0022 - accuracy: 0.9991\n",
      "Epoch 21/25\n",
      "325/325 [==============================] - 7s 22ms/step - loss: 4.4200e-04 - accuracy: 0.9999\n",
      "Epoch 22/25\n",
      "325/325 [==============================] - 7s 22ms/step - loss: 0.0015 - accuracy: 0.9996\n",
      "Epoch 23/25\n",
      "325/325 [==============================] - 7s 23ms/step - loss: 7.7237e-04 - accuracy: 0.9998\n",
      "Epoch 24/25\n",
      "325/325 [==============================] - 7s 22ms/step - loss: 3.3134e-04 - accuracy: 1.0000\n",
      "Epoch 25/25\n",
      "325/325 [==============================] - 7s 23ms/step - loss: 2.7377e-04 - accuracy: 1.0000 1s - loss: 3.1335e-04 - accura -\n"
     ]
    },
    {
     "data": {
      "text/plain": [
       "<tensorflow.python.keras.callbacks.History at 0x2d8a6836790>"
      ]
     },
     "execution_count": 29,
     "metadata": {},
     "output_type": "execute_result"
    }
   ],
   "source": [
    "model.fit(X_final,y_final,epochs=25,batch_size=64)"
   ]
  },
  {
   "cell_type": "code",
   "execution_count": 30,
   "metadata": {
    "colab": {
     "base_uri": "https://localhost:8080/"
    },
    "executionInfo": {
     "elapsed": 5649,
     "status": "ok",
     "timestamp": 1610280013317,
     "user": {
      "displayName": "mohammed safwan",
      "photoUrl": "https://lh3.googleusercontent.com/a-/AOh14GiV5vMQDTESJpRqH9HUx3YkAKMlmbCR89MN0-kb=s64",
      "userId": "01125499156458124312"
     },
     "user_tz": -330
    },
    "id": "LBK9xi6GarxV",
    "outputId": "891fa3e7-7932-46d9-fcf7-14c02af418cb"
   },
   "outputs": [
    {
     "name": "stderr",
     "output_type": "stream",
     "text": [
      "C:\\Users\\pmohd\\anaconda3\\envs\\fakenewspred\\lib\\site-packages\\tensorflow\\python\\keras\\engine\\sequential.py:450: UserWarning: `model.predict_classes()` is deprecated and will be removed after 2021-01-01. Please use instead:* `np.argmax(model.predict(x), axis=-1)`,   if your model does multi-class classification   (e.g. if it uses a `softmax` last-layer activation).* `(model.predict(x) > 0.5).astype(\"int32\")`,   if your model does binary classification   (e.g. if it uses a `sigmoid` last-layer activation).\n",
      "  warnings.warn('`model.predict_classes()` is deprecated and '\n"
     ]
    }
   ],
   "source": [
    "y_pred = model.predict_classes(X_final)"
   ]
  },
  {
   "cell_type": "code",
   "execution_count": 31,
   "metadata": {
    "colab": {
     "base_uri": "https://localhost:8080/",
     "height": 402
    },
    "executionInfo": {
     "elapsed": 1283,
     "status": "ok",
     "timestamp": 1610280015410,
     "user": {
      "displayName": "mohammed safwan",
      "photoUrl": "https://lh3.googleusercontent.com/a-/AOh14GiV5vMQDTESJpRqH9HUx3YkAKMlmbCR89MN0-kb=s64",
      "userId": "01125499156458124312"
     },
     "user_tz": -330
    },
    "id": "uwFiAtnIfqCX",
    "outputId": "5b7711ed-99c2-4f56-c01f-be70c9c70edd"
   },
   "outputs": [
    {
     "data": {
      "text/html": [
       "<div>\n",
       "<style scoped>\n",
       "    .dataframe tbody tr th:only-of-type {\n",
       "        vertical-align: middle;\n",
       "    }\n",
       "\n",
       "    .dataframe tbody tr th {\n",
       "        vertical-align: top;\n",
       "    }\n",
       "\n",
       "    .dataframe thead th {\n",
       "        text-align: right;\n",
       "    }\n",
       "</style>\n",
       "<table border=\"1\" class=\"dataframe\">\n",
       "  <thead>\n",
       "    <tr style=\"text-align: right;\">\n",
       "      <th></th>\n",
       "      <th>0</th>\n",
       "    </tr>\n",
       "  </thead>\n",
       "  <tbody>\n",
       "    <tr>\n",
       "      <th>0</th>\n",
       "      <td>1</td>\n",
       "    </tr>\n",
       "    <tr>\n",
       "      <th>1</th>\n",
       "      <td>0</td>\n",
       "    </tr>\n",
       "    <tr>\n",
       "      <th>2</th>\n",
       "      <td>1</td>\n",
       "    </tr>\n",
       "    <tr>\n",
       "      <th>3</th>\n",
       "      <td>1</td>\n",
       "    </tr>\n",
       "    <tr>\n",
       "      <th>4</th>\n",
       "      <td>1</td>\n",
       "    </tr>\n",
       "    <tr>\n",
       "      <th>...</th>\n",
       "      <td>...</td>\n",
       "    </tr>\n",
       "    <tr>\n",
       "      <th>20795</th>\n",
       "      <td>0</td>\n",
       "    </tr>\n",
       "    <tr>\n",
       "      <th>20796</th>\n",
       "      <td>0</td>\n",
       "    </tr>\n",
       "    <tr>\n",
       "      <th>20797</th>\n",
       "      <td>0</td>\n",
       "    </tr>\n",
       "    <tr>\n",
       "      <th>20798</th>\n",
       "      <td>1</td>\n",
       "    </tr>\n",
       "    <tr>\n",
       "      <th>20799</th>\n",
       "      <td>1</td>\n",
       "    </tr>\n",
       "  </tbody>\n",
       "</table>\n",
       "<p>20800 rows × 1 columns</p>\n",
       "</div>"
      ],
      "text/plain": [
       "       0\n",
       "0      1\n",
       "1      0\n",
       "2      1\n",
       "3      1\n",
       "4      1\n",
       "...   ..\n",
       "20795  0\n",
       "20796  0\n",
       "20797  0\n",
       "20798  1\n",
       "20799  1\n",
       "\n",
       "[20800 rows x 1 columns]"
      ]
     },
     "execution_count": 31,
     "metadata": {},
     "output_type": "execute_result"
    }
   ],
   "source": [
    "pd.DataFrame(y_pred)"
   ]
  },
  {
   "cell_type": "code",
   "execution_count": 32,
   "metadata": {
    "colab": {
     "base_uri": "https://localhost:8080/"
    },
    "executionInfo": {
     "elapsed": 2623061,
     "status": "ok",
     "timestamp": 1610278713458,
     "user": {
      "displayName": "mohammed safwan",
      "photoUrl": "https://lh3.googleusercontent.com/a-/AOh14GiV5vMQDTESJpRqH9HUx3YkAKMlmbCR89MN0-kb=s64",
      "userId": "01125499156458124312"
     },
     "user_tz": -330
    },
    "id": "M3jFxWqvchzD",
    "outputId": "e822987f-242d-4529-feb8-bfdd86fe4582"
   },
   "outputs": [
    {
     "name": "stdout",
     "output_type": "stream",
     "text": [
      "650/650 [==============================] - 7s 8ms/step - loss: 5.7887e-06 - accuracy: 1.0000\n"
     ]
    },
    {
     "data": {
      "text/plain": [
       "[5.7886763897840865e-06, 1.0]"
      ]
     },
     "execution_count": 32,
     "metadata": {},
     "output_type": "execute_result"
    }
   ],
   "source": [
    "model.evaluate(X_final,y_final)"
   ]
  },
  {
   "cell_type": "code",
   "execution_count": 33,
   "metadata": {
    "executionInfo": {
     "elapsed": 1719,
     "status": "ok",
     "timestamp": 1610279218440,
     "user": {
      "displayName": "mohammed safwan",
      "photoUrl": "https://lh3.googleusercontent.com/a-/AOh14GiV5vMQDTESJpRqH9HUx3YkAKMlmbCR89MN0-kb=s64",
      "userId": "01125499156458124312"
     },
     "user_tz": -330
    },
    "id": "YJAGhqj7buIh"
   },
   "outputs": [],
   "source": [
    "model.save('eeeee.h5')"
   ]
  }
 ],
 "metadata": {
  "colab": {
   "authorship_tag": "ABX9TyPYe1ooll5bSfRlpkfniyM9",
   "collapsed_sections": [],
   "name": "fakenewspred.ipynb",
   "provenance": []
  },
  "kernelspec": {
   "display_name": "Python 3",
   "language": "python",
   "name": "python3"
  },
  "language_info": {
   "codemirror_mode": {
    "name": "ipython",
    "version": 3
   },
   "file_extension": ".py",
   "mimetype": "text/x-python",
   "name": "python",
   "nbconvert_exporter": "python",
   "pygments_lexer": "ipython3",
   "version": "3.8.5"
  }
 },
 "nbformat": 4,
 "nbformat_minor": 1
}
